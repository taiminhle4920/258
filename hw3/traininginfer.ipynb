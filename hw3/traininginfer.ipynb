{
 "cells": [
  {
   "cell_type": "code",
   "execution_count": 17,
   "metadata": {},
   "outputs": [],
   "source": [
    "import os\n",
    "import time\n",
    "import torch\n",
    "import timm\n",
    "import matplotlib.pyplot as plt\n",
    "from transformers import ViTFeatureExtractor, ViTForImageClassification\n",
    "from torchvision import datasets, transforms, models as torchvision_models\n",
    "from torch.utils.data import DataLoader\n",
    "from torch import optim, nn\n",
    "from tqdm import tqdm\n",
    "# Load feature extractor and model\n",
    "model = timm.create_model('efficientnet_lite0', pretrained=True)\n",
    "num_features = model.classifier.in_features\n",
    "model.classifier = torch.nn.Linear(num_features, 10)"
   ]
  },
  {
   "cell_type": "code",
   "execution_count": 27,
   "metadata": {},
   "outputs": [],
   "source": [
    "\n",
    "transform = transforms.Compose([\n",
    "    transforms.Grayscale(num_output_channels=3),\n",
    "    transforms.ToTensor(),\n",
    "    transforms.Normalize((0.5,), (0.5,))\n",
    "])\n",
    "\n",
    "transform2 = transforms.Compose([\n",
    "    transforms.Grayscale(num_output_channels=3),\n",
    "    transforms.Resize((224, 224)),\n",
    "    transforms.ToTensor(),\n",
    "    transforms.Normalize((0.5,), (0.5,))\n",
    "])\n",
    "\n",
    "\n",
    "\n",
    "fashion_mnist_test = datasets.FashionMNIST(root='./data', train=False, download=True, transform=transform)\n",
    "fashion_mnist_train = datasets.FashionMNIST(root='./data', train=True, download=True, transform=transform)\n",
    "\n",
    "test_loader = DataLoader(fashion_mnist_test, batch_size=64, shuffle=False)\n",
    "train_loader = DataLoader(fashion_mnist_train, batch_size=64, shuffle=True, num_workers=1)\n",
    "\n"
   ]
  },
  {
   "cell_type": "code",
   "execution_count": 21,
   "metadata": {},
   "outputs": [
    {
     "name": "stdout",
     "output_type": "stream",
     "text": [
      "235\n",
      "torch.Size([256, 3, 28, 28]) torch.Size([256])\n"
     ]
    }
   ],
   "source": [
    "print(len(train_loader))  \n",
    "for images, labels in train_loader:\n",
    "    print(images.shape, labels.shape)\n",
    "    break  "
   ]
  },
  {
   "cell_type": "code",
   "execution_count": 28,
   "metadata": {},
   "outputs": [
    {
     "name": "stderr",
     "output_type": "stream",
     "text": [
      "Epoch 1: 100%|██████████| 938/938 [00:55<00:00, 16.83it/s, Loss=0.3757, Accuracy=87.01%]\n"
     ]
    },
    {
     "name": "stdout",
     "output_type": "stream",
     "text": [
      "Epoch 1, Loss: 0.3757, Accuracy: 87.01%\n"
     ]
    },
    {
     "name": "stderr",
     "output_type": "stream",
     "text": [
      "Epoch 2: 100%|██████████| 938/938 [00:53<00:00, 17.50it/s, Loss=0.3227, Accuracy=88.87%]\n"
     ]
    },
    {
     "name": "stdout",
     "output_type": "stream",
     "text": [
      "Epoch 2, Loss: 0.3227, Accuracy: 88.87%\n"
     ]
    },
    {
     "name": "stderr",
     "output_type": "stream",
     "text": [
      "Epoch 3: 100%|██████████| 938/938 [00:53<00:00, 17.69it/s, Loss=0.2853, Accuracy=89.90%]\n"
     ]
    },
    {
     "name": "stdout",
     "output_type": "stream",
     "text": [
      "Epoch 3, Loss: 0.2853, Accuracy: 89.90%\n"
     ]
    },
    {
     "name": "stderr",
     "output_type": "stream",
     "text": [
      "Epoch 4: 100%|██████████| 938/938 [00:52<00:00, 17.88it/s, Loss=0.2624, Accuracy=90.78%]\n"
     ]
    },
    {
     "name": "stdout",
     "output_type": "stream",
     "text": [
      "Epoch 4, Loss: 0.2624, Accuracy: 90.78%\n"
     ]
    },
    {
     "name": "stderr",
     "output_type": "stream",
     "text": [
      "Epoch 5: 100%|██████████| 938/938 [00:52<00:00, 17.87it/s, Loss=0.2468, Accuracy=91.26%]\n"
     ]
    },
    {
     "name": "stdout",
     "output_type": "stream",
     "text": [
      "Epoch 5, Loss: 0.2468, Accuracy: 91.26%\n"
     ]
    },
    {
     "name": "stderr",
     "output_type": "stream",
     "text": [
      "Epoch 6: 100%|██████████| 938/938 [00:54<00:00, 17.35it/s, Loss=0.2310, Accuracy=91.66%]\n"
     ]
    },
    {
     "name": "stdout",
     "output_type": "stream",
     "text": [
      "Epoch 6, Loss: 0.2310, Accuracy: 91.66%\n"
     ]
    },
    {
     "name": "stderr",
     "output_type": "stream",
     "text": [
      "Epoch 7: 100%|██████████| 938/938 [00:53<00:00, 17.57it/s, Loss=0.2171, Accuracy=92.27%]\n"
     ]
    },
    {
     "name": "stdout",
     "output_type": "stream",
     "text": [
      "Epoch 7, Loss: 0.2171, Accuracy: 92.27%\n"
     ]
    },
    {
     "name": "stderr",
     "output_type": "stream",
     "text": [
      "Epoch 8: 100%|██████████| 938/938 [00:53<00:00, 17.70it/s, Loss=0.2046, Accuracy=92.62%]\n"
     ]
    },
    {
     "name": "stdout",
     "output_type": "stream",
     "text": [
      "Epoch 8, Loss: 0.2046, Accuracy: 92.62%\n"
     ]
    },
    {
     "name": "stderr",
     "output_type": "stream",
     "text": [
      "Epoch 9: 100%|██████████| 938/938 [00:57<00:00, 16.28it/s, Loss=0.1962, Accuracy=92.98%]\n"
     ]
    },
    {
     "name": "stdout",
     "output_type": "stream",
     "text": [
      "Epoch 9, Loss: 0.1962, Accuracy: 92.98%\n"
     ]
    },
    {
     "name": "stderr",
     "output_type": "stream",
     "text": [
      "Epoch 10: 100%|██████████| 938/938 [00:58<00:00, 16.04it/s, Loss=0.1897, Accuracy=93.16%]"
     ]
    },
    {
     "name": "stdout",
     "output_type": "stream",
     "text": [
      "Epoch 10, Loss: 0.1897, Accuracy: 93.16%\n"
     ]
    },
    {
     "name": "stderr",
     "output_type": "stream",
     "text": [
      "\n"
     ]
    }
   ],
   "source": [
    "\n",
    "\n",
    "optimizer = optim.SGD(model.parameters(), lr=0.001, momentum=0.9)\n",
    "criterion = nn.CrossEntropyLoss()\n",
    "num_epochs = 10\n",
    "device = torch.device(\"mps\")\n",
    "model.to(device)\n",
    "training_loss = []\n",
    "training_accuracy = []\n",
    "\n",
    "model.train()\n",
    "\n",
    "for epoch in range(num_epochs):\n",
    "    total_loss = 0\n",
    "    correct_predictions = 0\n",
    "    total_predictions = 0\n",
    "    batch_count = 0\n",
    "\n",
    "    # Initialize tqdm progress bar\n",
    "    progress_bar = tqdm(train_loader, desc=f'Epoch {epoch+1}', leave=True)\n",
    "\n",
    "    for images, labels in progress_bar:\n",
    "        images, labels = images.to(device), labels.to(device)\n",
    "        \n",
    "\n",
    "        outputs = model(images)\n",
    "        loss = criterion(outputs, labels)  \n",
    "        \n",
    "        \n",
    "        optimizer.zero_grad()\n",
    "        loss.backward()\n",
    "        optimizer.step()\n",
    "\n",
    "        total_loss += loss.item()\n",
    "        _, predicted = torch.max(outputs, 1)  \n",
    "        correct_predictions += (predicted == labels).sum().item()\n",
    "        total_predictions += labels.size(0)\n",
    "        \n",
    "        batch_count += 1\n",
    "\n",
    "        progress_bar.set_postfix({\n",
    "            'Loss': f'{total_loss / batch_count:.4f}',\n",
    "            'Accuracy': f'{(correct_predictions / total_predictions * 100):.2f}%'\n",
    "        })\n",
    "    \n",
    "    epoch_loss = total_loss / batch_count\n",
    "    epoch_accuracy = correct_predictions / total_predictions * 100\n",
    "    training_loss.insert(epoch, epoch_loss)\n",
    "    training_accuracy.insert(epoch, epoch_accuracy)\n",
    "    print(f'Epoch {epoch+1}, Loss: {epoch_loss:.4f}, Accuracy: {epoch_accuracy:.2f}%')\n"
   ]
  },
  {
   "cell_type": "code",
   "execution_count": 29,
   "metadata": {},
   "outputs": [
    {
     "data": {
      "image/png": "[encoded data removed]",
      "text/plain": [
       "<Figure size 640x480 with 1 Axes>"
      ]
     },
     "metadata": {},
     "output_type": "display_data"
    },
    {
     "data": {
      "image/png": "[encoded data removed]",
      "text/plain": [
       "<Figure size 640x480 with 1 Axes>"
      ]
     },
     "metadata": {},
     "output_type": "display_data"
    }
   ],
   "source": [
    "plt.plot(training_loss)\n",
    "plt.title('Training Loss')\n",
    "plt.xlabel('Epoch')\n",
    "plt.ylabel('Loss')\n",
    "plt.show()\n",
    "plt.plot(training_accuracy)\n",
    "plt.title('Training Accuracy')\n",
    "plt.xlabel('Epoch')\n",
    "plt.ylabel('Accuracy')\n",
    "plt.show()"
   ]
  },
  {
   "cell_type": "code",
   "execution_count": 30,
   "metadata": {},
   "outputs": [
    {
     "name": "stderr",
     "output_type": "stream",
     "text": [
      "Evaluating Accuracy: 100%|██████████| 157/157 [00:02<00:00, 52.60it/s]\n"
     ]
    },
    {
     "name": "stdout",
     "output_type": "stream",
     "text": [
      "Original Model Accuracy: 91.46%\n"
     ]
    },
    {
     "name": "stderr",
     "output_type": "stream",
     "text": [
      "Evaluating Accuracy: 100%|██████████| 157/157 [00:02<00:00, 63.20it/s]"
     ]
    },
    {
     "name": "stdout",
     "output_type": "stream",
     "text": [
      "TorchScript Model Accuracy: 91.46%\n"
     ]
    },
    {
     "name": "stderr",
     "output_type": "stream",
     "text": [
      "\n"
     ]
    }
   ],
   "source": [
    "def evaluate_accuracy(ddm, data_loader, device='mps'):\n",
    "\n",
    "    ddm.eval()\n",
    "    correct = 0\n",
    "    total = 0\n",
    "    with torch.no_grad():\n",
    "        for images, labels in tqdm(data_loader, desc=\"Evaluating Accuracy\"):\n",
    "            images, labels = images.to(device), labels.to(device)\n",
    "            outputs = ddm(images)\n",
    "            _, predicted = torch.max(outputs.data, 1)\n",
    "            total += labels.size(0)\n",
    "            correct += (predicted == labels).sum().item()\n",
    "    accuracy = 100 * correct / total\n",
    "    return accuracy\n",
    "\n",
    "device = torch.device('cuda' if torch.cuda.is_available() else 'mps')\n",
    "\n",
    "\n",
    "\n",
    "original_accuracy = evaluate_accuracy(model, test_loader, device)\n",
    "print(f'Original Model Accuracy: {original_accuracy:.2f}%')\n",
    "\n",
    "\n",
    "torchscript = torch.jit.script(model)\n",
    "torchscript_accuracy = evaluate_accuracy(torchscript, test_loader, device)\n",
    "print(f'TorchScript Model Accuracy: {torchscript_accuracy:.2f}%')\n",
    "\n",
    "\n"
   ]
  },
  {
   "cell_type": "code",
   "execution_count": 32,
   "metadata": {},
   "outputs": [
    {
     "name": "stderr",
     "output_type": "stream",
     "text": [
      "Benchmarking Model: 100%|██████████| 100/100 [00:01<00:00, 98.60it/s]\n"
     ]
    },
    {
     "name": "stdout",
     "output_type": "stream",
     "text": [
      "Original Model Inference Time: 97.4945 iter/seconds\n"
     ]
    },
    {
     "name": "stderr",
     "output_type": "stream",
     "text": [
      "Benchmarking Model: 100%|██████████| 100/100 [00:00<00:00, 124.86it/s]"
     ]
    },
    {
     "name": "stdout",
     "output_type": "stream",
     "text": [
      "TorchScript Model Inference Time: 124.2403 iter/seconds\n"
     ]
    },
    {
     "name": "stderr",
     "output_type": "stream",
     "text": [
      "\n"
     ]
    }
   ],
   "source": [
    "\n",
    "def benchmark_model(model, input, iterations=100, device='mps'):\n",
    "    start = time.time()\n",
    "    model.to(device)\n",
    "    model.eval()\n",
    "    input = input.to(device)\n",
    "    with torch.no_grad():\n",
    "        for _ in tqdm(range(iterations), desc=\"Benchmarking Model\"):\n",
    "            output = model(input)\n",
    "    end = time.time()\n",
    "    return iterations/(end-start)\n",
    "\n",
    "\n",
    "\n",
    "original_time = benchmark_model(model, next(iter(test_loader))[0], device=device)\n",
    "print(f'Original Model Inference Time: {original_time:.4f} iter/seconds')\n",
    "\n",
    "torchscript_time = benchmark_model(torchscript, next(iter(test_loader))[0], device=device)\n",
    "print(f'TorchScript Model Inference Time: {torchscript_time:.4f} iter/seconds')\n",
    "\n",
    "\n"
   ]
  },
  {
   "cell_type": "code",
   "execution_count": 33,
   "metadata": {},
   "outputs": [
    {
     "name": "stdout",
     "output_type": "stream",
     "text": [
      "Original Model Size: 13.15 MB\n",
      "TorchScript Model Size: 13.28 MB\n"
     ]
    }
   ],
   "source": [
    "torchscript.save('ts_model.pt')\n",
    "torch.save(model.state_dict(), 'model.pt')\n",
    "\n",
    "original_size = os.path.getsize('model.pt')/(1024**2)\n",
    "print(f'Original Model Size: {original_size:.2f} MB')\n",
    "torchscript_size = os.path.getsize('ts_model.pt')/(1024**2)\n",
    "print(f'TorchScript Model Size: {torchscript_size:.2f} MB')\n"
   ]
  }
 ],
 "metadata": {
  "kernelspec": {
   "display_name": "base",
   "language": "python",
   "name": "python3"
  },
  "language_info": {
   "codemirror_mode": {
    "name": "ipython",
    "version": 3
   },
   "file_extension": ".py",
   "mimetype": "text/x-python",
   "name": "python",
   "nbconvert_exporter": "python",
   "pygments_lexer": "ipython3",
   "version": "3.11.7"
  }
 },
 "nbformat": 4,
 "nbformat_minor": 2
}
