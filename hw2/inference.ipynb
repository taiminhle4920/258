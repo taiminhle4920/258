{
 "cells": [
  {
   "cell_type": "code",
   "execution_count": 1,
   "metadata": {},
   "outputs": [
    {
     "name": "stderr",
     "output_type": "stream",
     "text": [
      "/Users/taile/miniconda3/lib/python3.11/site-packages/tqdm/auto.py:21: TqdmWarning: IProgress not found. Please update jupyter and ipywidgets. See https://ipywidgets.readthedocs.io/en/stable/user_install.html\n",
      "  from .autonotebook import tqdm as notebook_tqdm\n"
     ]
    }
   ],
   "source": [
    "import time\n",
    "import numpy as np\n",
    "from tqdm import tqdm\n",
    "import timm\n",
    "import torch\n",
    "from torchvision import models as torchvision_models\n",
    "import matplotlib.pyplot as plt"
   ]
  },
  {
   "cell_type": "code",
   "execution_count": 2,
   "metadata": {},
   "outputs": [],
   "source": [
    "\n",
    "def benchmark(model, input_shape=(1, 3, 224, 224), dtype='fp32', nruns=100, device='cpu'):\n",
    "    input_data = torch.randn(input_shape).to(device)\n",
    "    if dtype == 'fp16':\n",
    "        input_data = input_data.half()\n",
    "    with torch.no_grad():\n",
    "        for _ in range(10):\n",
    "            features = model(input_data)\n",
    "\n",
    "    timings = []\n",
    "    with torch.no_grad():\n",
    "        for _ in tqdm(range(nruns)):\n",
    "            start_time = time.time()\n",
    "            pred = model(input_data)\n",
    "            end_time = time.time()\n",
    "            timings.append(end_time - start_time)\n",
    "    end_time = time.time()\n",
    "    prep_time = end_time - start_time\n",
    "    fps = input_shape[0]/np.mean(timings)\n",
    "    return fps, prep_time\n",
    "\n",
    "model_lst = ['resnet18', 'resnet50','mobilenet_v2', 'squeezenet1_0', 'vgg16', 'efficientnet_b0', 'efficientnet_lite0']\n",
    "opt_lst = ['pytorch', 'torchscript', 'low_res']"
   ]
  },
  {
   "cell_type": "code",
   "execution_count": 5,
   "metadata": {},
   "outputs": [
    {
     "name": "stdout",
     "output_type": "stream",
     "text": [
      "Benchmarking resnet18...\n"
     ]
    },
    {
     "name": "stderr",
     "output_type": "stream",
     "text": [
      "100%|██████████| 100/100 [00:01<00:00, 53.07it/s]\n",
      "100%|██████████| 100/100 [00:02<00:00, 48.89it/s]\n",
      "100%|██████████| 100/100 [00:01<00:00, 77.07it/s]\n"
     ]
    },
    {
     "name": "stdout",
     "output_type": "stream",
     "text": [
      "Pytorch: 53.3617image/s, Torchscript: 49.1232 image/s, Low res: 77.4998 image/s\n",
      "Pytorch prep: 0.0169 s, Torchscript prep: 0.0186 s, Low res prep: 0.0116\n",
      "Benchmarking resnet50...\n"
     ]
    },
    {
     "name": "stderr",
     "output_type": "stream",
     "text": [
      "100%|██████████| 100/100 [00:03<00:00, 25.65it/s]\n",
      "100%|██████████| 100/100 [00:04<00:00, 24.04it/s]\n",
      "100%|██████████| 100/100 [00:01<00:00, 52.26it/s]\n"
     ]
    },
    {
     "name": "stdout",
     "output_type": "stream",
     "text": [
      "Pytorch: 25.7696image/s, Torchscript: 24.1567 image/s, Low res: 52.4887 image/s\n",
      "Pytorch prep: 0.0406 s, Torchscript prep: 0.0353 s, Low res prep: 0.0182\n",
      "Benchmarking mobilenet_v2...\n"
     ]
    },
    {
     "name": "stderr",
     "output_type": "stream",
     "text": [
      "100%|██████████| 100/100 [00:04<00:00, 20.37it/s]\n",
      "100%|██████████| 100/100 [00:04<00:00, 20.58it/s]\n",
      "100%|██████████| 100/100 [00:04<00:00, 21.76it/s]\n"
     ]
    },
    {
     "name": "stdout",
     "output_type": "stream",
     "text": [
      "Pytorch: 20.4479image/s, Torchscript: 20.6573 image/s, Low res: 21.8580 image/s\n",
      "Pytorch prep: 0.0551 s, Torchscript prep: 0.0537 s, Low res prep: 0.0396\n",
      "Benchmarking squeezenet1_0...\n"
     ]
    },
    {
     "name": "stderr",
     "output_type": "stream",
     "text": [
      "100%|██████████| 100/100 [00:01<00:00, 61.42it/s]\n",
      "100%|██████████| 100/100 [00:01<00:00, 54.31it/s]\n",
      "100%|██████████| 100/100 [00:00<00:00, 134.81it/s]\n"
     ]
    },
    {
     "name": "stdout",
     "output_type": "stream",
     "text": [
      "Pytorch: 61.7091image/s, Torchscript: 54.5826 image/s, Low res: 135.5328 image/s\n",
      "Pytorch prep: 0.0180 s, Torchscript prep: 0.0181 s, Low res prep: 0.0071\n",
      "Benchmarking vgg16...\n"
     ]
    },
    {
     "name": "stderr",
     "output_type": "stream",
     "text": [
      "100%|██████████| 100/100 [00:08<00:00, 11.86it/s]\n",
      "100%|██████████| 100/100 [00:07<00:00, 13.06it/s]\n",
      "100%|██████████| 100/100 [00:03<00:00, 32.36it/s]\n"
     ]
    },
    {
     "name": "stdout",
     "output_type": "stream",
     "text": [
      "Pytorch: 11.9026image/s, Torchscript: 13.1076 image/s, Low res: 32.4985 image/s\n",
      "Pytorch prep: 0.0876 s, Torchscript prep: 0.0679 s, Low res prep: 0.0309\n",
      "Benchmarking efficientnet_b0...\n"
     ]
    },
    {
     "name": "stderr",
     "output_type": "stream",
     "text": [
      "100%|██████████| 100/100 [00:31<00:00,  3.14it/s]\n",
      "100%|██████████| 100/100 [00:31<00:00,  3.18it/s]\n",
      "100%|██████████| 100/100 [00:29<00:00,  3.39it/s]\n"
     ]
    },
    {
     "name": "stdout",
     "output_type": "stream",
     "text": [
      "Pytorch: 3.1448image/s, Torchscript: 3.1828 image/s, Low res: 3.3951 image/s\n",
      "Pytorch prep: 0.3135 s, Torchscript prep: 0.3051 s, Low res prep: 0.2796\n",
      "Benchmarking efficientnet_lite0...\n"
     ]
    },
    {
     "name": "stderr",
     "output_type": "stream",
     "text": [
      "100%|██████████| 100/100 [00:33<00:00,  2.96it/s]\n",
      "100%|██████████| 100/100 [00:32<00:00,  3.12it/s]\n",
      "100%|██████████| 100/100 [00:33<00:00,  3.02it/s]"
     ]
    },
    {
     "name": "stdout",
     "output_type": "stream",
     "text": [
      "Pytorch: 2.9633image/s, Torchscript: 3.1246 image/s, Low res: 3.0272 image/s\n",
      "Pytorch prep: 0.3260 s, Torchscript prep: 0.3574 s, Low res prep: 0.3174\n"
     ]
    },
    {
     "name": "stderr",
     "output_type": "stream",
     "text": [
      "\n"
     ]
    }
   ],
   "source": [
    "\n",
    "\n",
    "nruns = 100\n",
    "input_shape = (1, 3, 224, 224)\n",
    "\n",
    "benchmark_res = dict()\n",
    "prep_res = dict()\n",
    "for model_name in model_lst:\n",
    "    print(f\"Benchmarking {model_name}...\")\n",
    "\n",
    "    if model_name == 'resnet18':\n",
    "        model = torchvision_models.resnet18(weights=torchvision_models.ResNet18_Weights.DEFAULT).eval()\n",
    "    elif model_name == 'mobilenet_v2':\n",
    "        model = torchvision_models.mobilenet_v2(weights=torchvision_models.MobileNet_V2_Weights.DEFAULT).eval()\n",
    "    elif model_name == 'squeezenet1_0':\n",
    "        model = torchvision_models.squeezenet1_0(weights=torchvision_models.SqueezeNet1_0_Weights.DEFAULT).eval()\n",
    "    elif model_name == 'vgg16':\n",
    "        model = torchvision_models.vgg16(weights=torchvision_models.VGG16_Weights.DEFAULT).eval()\n",
    "    elif model_name == 'resnet50':\n",
    "        model = torchvision_models.resnet50(weights=torchvision_models.ResNet50_Weights.DEFAULT).eval()\n",
    "    elif model_name == 'efficientnet_b0':\n",
    "        model = timm.create_model('efficientnet_b0', pretrained=True).eval()\n",
    "    elif model_name == 'efficientnet_lite0':\n",
    "        model = timm.create_model('efficientnet_lite0', pretrained=True).eval()\n",
    "    else:\n",
    "        raise RuntimeError(f'Model \"{model_name}\" not recognized.')\n",
    "\n",
    "    benchmark_res[model_name] = dict()\n",
    "    prep_res[model_name] = dict()\n",
    "\n",
    "    fps1, prep1 = benchmark(model, input_shape=input_shape, nruns=nruns, device='cpu')\n",
    "    # Torchscrip the model\n",
    "    scripted_model = torch.jit.script(model)\n",
    "    fps2, prep2 = benchmark(scripted_model, input_shape=input_shape, nruns=nruns, device='cpu')\n",
    "    # Simulate optimization by reducing input resolution\n",
    "    low_res_shape = (input_shape[0], input_shape[1], input_shape[2] // 2, input_shape[3] // 2)\n",
    "    fps3, prep3 = benchmark(model, input_shape=low_res_shape, nruns=nruns, device='cpu')\n",
    "    print(f\"Pytorch: {fps1:.4f}image/s, Torchscript: {fps2:.4f} image/s, Low res: {fps3:.4f} image/s\")\n",
    "    print(f\"Pytorch prep: {prep1:.4f} s, Torchscript prep: {prep2:.4f} s, Low res prep: {prep3:.4f}\")\n",
    "    \n",
    "    benchmark_res[model_name]['pytorch'] = fps1\n",
    "    benchmark_res[model_name]['torchscript'] = fps2\n",
    "    benchmark_res[model_name]['low_res'] = fps3\n",
    "    prep_res[model_name]['pytorch'] = prep1\n",
    "    prep_res[model_name]['torchscript'] = prep2\n",
    "    prep_res[model_name]['low_res'] = prep3\n",
    "    \n",
    "\n"
   ]
  },
  {
   "cell_type": "code",
   "execution_count": null,
   "metadata": {},
   "outputs": [
    {
     "data": {
      "image/png": "[encoded data removed]",
      "text/plain": [
       "<Figure size 1200x800 with 1 Axes>"
      ]
     },
     "metadata": {},
     "output_type": "display_data"
    }
   ],
   "source": [
    "colors = ['red', 'green', 'blue'] \n",
    "fig, ax = plt.subplots(figsize=(12, 8))\n",
    "width = 0.25 \n",
    "x = np.arange(len(model_lst))\n",
    "\n",
    "for i, opt_method in enumerate(opt_lst):\n",
    "    times = [prep_res[model][opt_method] for model in model_lst]\n",
    "    ax.bar(x + i * width, times, width, label=opt_method, color=colors[i])\n",
    "\n",
    "ax.set_ylabel('Prep Inference Time (s)')\n",
    "ax.set_title('Inference Prep Time Comparison by Model and Optimization Technique')\n",
    "ax.set_xticks(x + width / len(opt_lst))\n",
    "ax.set_xticklabels(model_lst)\n",
    "ax.legend()\n",
    "\n",
    "plt.xticks(rotation=45)\n",
    "plt.show()"
   ]
  },
  {
   "cell_type": "code",
   "execution_count": null,
   "metadata": {},
   "outputs": [
    {
     "data": {
      "image/png": "[encoded data removed]",
      "text/plain": [
       "<Figure size 1200x800 with 1 Axes>"
      ]
     },
     "metadata": {},
     "output_type": "display_data"
    }
   ],
   "source": [
    "\n",
    "\n",
    "fig, ax = plt.subplots(figsize=(12, 8))\n",
    "width = 0.25  \n",
    "x = np.arange(len(model_lst))\n",
    "\n",
    "for i, opt_method in enumerate(opt_lst):\n",
    "    times = [benchmark_res[model][opt_method] for model in model_lst]\n",
    "    ax.bar(x + i * width, times, width, label=opt_method, color=colors[i])\n",
    "\n",
    "ax.set_ylabel('Average Image/s (FPS)')\n",
    "ax.set_title('Inference Time Comparison by Model and Optimization Technique')\n",
    "ax.set_xticks(x + width / len(opt_lst))\n",
    "ax.set_xticklabels(model_lst)\n",
    "ax.legend()\n",
    "\n",
    "plt.xticks(rotation=45)\n",
    "plt.show()\n"
   ]
  },
  {
   "cell_type": "code",
   "execution_count": 18,
   "metadata": {},
   "outputs": [],
   "source": [
    "from torchvision import datasets, transforms, models as torchvision_models\n",
    "from torch.utils.data import DataLoader\n",
    "from torch import optim, nn\n",
    "\n",
    "# Original transformation\n",
    "transform = transforms.Compose([\n",
    "    transforms.Grayscale(num_output_channels=3),\n",
    "    transforms.ToTensor(),\n",
    "    transforms.Normalize((0.5,), (0.5,))\n",
    "])\n",
    "\n",
    "# Transformation for lower resolution simulation\n",
    "lowres_transform = transforms.Compose([\n",
    "    transforms.Grayscale(num_output_channels=3),\n",
    "    transforms.Resize((112, 112)),  # Lower resolution\n",
    "    transforms.ToTensor(),\n",
    "    transforms.Normalize((0.5,), (0.5,))\n",
    "])\n",
    "\n",
    "# Load datasets\n",
    "fashion_mnist_test = datasets.FashionMNIST(root='./data', train=False, download=True, transform=transform)\n",
    "fashion_mnist_lowres_test = datasets.FashionMNIST(root='./data', train=False, download=True, transform=lowres_transform)\n",
    "\n",
    "# DataLoader for original and low-res tests\n",
    "test_loader = DataLoader(fashion_mnist_test, batch_size=64, shuffle=False)\n",
    "test_loader_lowres = DataLoader(fashion_mnist_lowres_test, batch_size=64, shuffle=False)\n",
    "train_loader = DataLoader(fashion_mnist_test, batch_size=64, shuffle=True)\n",
    "train_loader_lowres = DataLoader(fashion_mnist_lowres_test, batch_size=64, shuffle=True)\n",
    "\n",
    "\n",
    "\n",
    "def evaluate_accuracy(model, data_loader, device='mps'):\n",
    "    model.to(device)\n",
    "    model.eval()\n",
    "    correct = 0\n",
    "    total = 0\n",
    "    with torch.no_grad():\n",
    "        for images, labels in tqdm(data_loader, desc=\"Evaluating Accuracy\"):\n",
    "            images, labels = images.to(device), labels.to(device)\n",
    "            outputs = model(images)\n",
    "            _, predicted = torch.max(outputs.data, 1)\n",
    "            total += labels.size(0)\n",
    "            correct += (predicted == labels).sum().item()\n",
    "    accuracy = 100 * correct / total\n",
    "    return accuracy\n",
    "\n",
    "device = torch.device('cuda' if torch.cuda.is_available() else 'mps')\n",
    "num_epochs = 5\n"
   ]
  },
  {
   "cell_type": "code",
   "execution_count": 19,
   "metadata": {},
   "outputs": [
    {
     "name": "stdout",
     "output_type": "stream",
     "text": [
      "Epoch 1, Batch 100, Loss: 0.9110789254307747\n",
      "Epoch 2, Batch 100, Loss: 0.45617969483137133\n",
      "Epoch 3, Batch 100, Loss: 0.3683726991713047\n",
      "Epoch 4, Batch 100, Loss: 0.32436741068959235\n",
      "Epoch 5, Batch 100, Loss: 0.2804472633451223\n"
     ]
    },
    {
     "name": "stderr",
     "output_type": "stream",
     "text": [
      "Evaluating Accuracy: 100%|██████████| 157/157 [00:02<00:00, 61.12it/s]\n"
     ]
    },
    {
     "name": "stdout",
     "output_type": "stream",
     "text": [
      "Original efficientnet_lite0 Accuracy: 90.9%\n"
     ]
    },
    {
     "name": "stderr",
     "output_type": "stream",
     "text": [
      "Evaluating Accuracy: 100%|██████████| 157/157 [00:02<00:00, 72.55it/s]\n"
     ]
    },
    {
     "name": "stdout",
     "output_type": "stream",
     "text": [
      "TorchScript efficientnet_lite0 Accuracy: 90.9%\n",
      "Epoch 1, Batch 100, Loss: 0.6130647119879723\n",
      "Epoch 2, Batch 100, Loss: 0.32396636888384817\n",
      "Epoch 3, Batch 100, Loss: 0.24458479315042495\n",
      "Epoch 4, Batch 100, Loss: 0.20120415825396776\n",
      "Epoch 5, Batch 100, Loss: 0.16354774355888366\n"
     ]
    },
    {
     "name": "stderr",
     "output_type": "stream",
     "text": [
      "Evaluating Accuracy: 100%|██████████| 157/157 [00:09<00:00, 16.43it/s]"
     ]
    },
    {
     "name": "stdout",
     "output_type": "stream",
     "text": [
      "Low-Res efficientnet_lite0 Accuracy: 94.05%\n"
     ]
    },
    {
     "name": "stderr",
     "output_type": "stream",
     "text": [
      "\n"
     ]
    }
   ],
   "source": [
    "model = torchvision_models.resnet18(weights=torchvision_models.ResNet18_Weights.DEFAULT).eval()\n",
    "\n",
    "num_ftrs = model.fc.in_features\n",
    "model.fc = nn.Linear(num_ftrs, 10) \n",
    "model = model.to(device)\n",
    "model.to(device)\n",
    "\n",
    "criterion = nn.CrossEntropyLoss()\n",
    "optimizer = optim.SGD(model.parameters(), lr=0.001, momentum=0.9)\n",
    "\n",
    "for epoch in range(num_epochs):\n",
    "    running_loss = 0.0\n",
    "    for i, data in enumerate(train_loader, 0):\n",
    "        inputs, labels = data\n",
    "        inputs, labels = inputs.to(device), labels.to(device)\n",
    "        optimizer.zero_grad()\n",
    "        outputs = model(inputs)\n",
    "        loss = criterion(outputs, labels)\n",
    "        loss.backward()\n",
    "        optimizer.step()\n",
    "        running_loss += loss.item()\n",
    "        if i % 100 == 99:\n",
    "            print(f'Epoch {epoch + 1}, Batch {i + 1}, Loss: {running_loss / 100}')\n",
    "            running_loss = 0.0\n",
    "            \n",
    "            \n",
    "\n",
    "original_accuracy = evaluate_accuracy(model, test_loader, device=device)\n",
    "print(f'Original {model_name} Accuracy: {original_accuracy}%')\n",
    "\n",
    "scripted_model = torch.jit.script(model)\n",
    "scripted_accuracy = evaluate_accuracy(scripted_model, test_loader, device=device)\n",
    "print(f'TorchScript {model_name} Accuracy: {scripted_accuracy}%')\n",
    "\n",
    "for epoch in range(num_epochs):\n",
    "    running_loss = 0.0\n",
    "    for i, data in enumerate(train_loader_lowres, 0):\n",
    "        inputs, labels = data\n",
    "        inputs, labels = inputs.to(device), labels.to(device)\n",
    "        optimizer.zero_grad()\n",
    "        outputs = model(inputs)\n",
    "        loss = criterion(outputs, labels)\n",
    "        loss.backward()\n",
    "        optimizer.step()\n",
    "        running_loss += loss.item()\n",
    "        if i % 100 == 99:\n",
    "            print(f'Epoch {epoch + 1}, Batch {i + 1}, Loss: {running_loss / 100}')\n",
    "            running_loss = 0.0\n",
    "\n",
    "lowres_accuracy = evaluate_accuracy(model, test_loader_lowres, device=device)\n",
    "print(f'Low-Res {model_name} Accuracy: {lowres_accuracy}%')\n",
    "\n"
   ]
  },
  {
   "cell_type": "code",
   "execution_count": 26,
   "metadata": {},
   "outputs": [
    {
     "name": "stdout",
     "output_type": "stream",
     "text": [
      "Epoch 1, Batch 100, Loss: 2.3041914463043214\n",
      "Epoch 2, Batch 100, Loss: 2.3043606996536257\n",
      "Epoch 3, Batch 100, Loss: 2.30343857049942\n",
      "Epoch 4, Batch 100, Loss: 2.304874670505524\n",
      "Epoch 5, Batch 100, Loss: 2.306184158325195\n"
     ]
    },
    {
     "name": "stderr",
     "output_type": "stream",
     "text": [
      "Evaluating Accuracy: 100%|██████████| 157/157 [00:02<00:00, 52.83it/s]\n"
     ]
    },
    {
     "name": "stdout",
     "output_type": "stream",
     "text": [
      "Original efficientnet_lite0 Accuracy: 15.67%\n"
     ]
    },
    {
     "name": "stderr",
     "output_type": "stream",
     "text": [
      "Evaluating Accuracy: 100%|██████████| 157/157 [00:03<00:00, 50.57it/s]\n"
     ]
    },
    {
     "name": "stdout",
     "output_type": "stream",
     "text": [
      "TorchScript efficientnet_lite0 Accuracy: 15.67%\n",
      "Epoch 1, Batch 100, Loss: 2.404084048271179\n",
      "Epoch 2, Batch 100, Loss: 2.4112136912345887\n",
      "Epoch 3, Batch 100, Loss: 2.4088562178611754\n",
      "Epoch 4, Batch 100, Loss: 2.4071173453330994\n",
      "Epoch 5, Batch 100, Loss: 2.4122557640075684\n"
     ]
    },
    {
     "name": "stderr",
     "output_type": "stream",
     "text": [
      "Evaluating Accuracy: 100%|██████████| 157/157 [00:07<00:00, 19.83it/s]"
     ]
    },
    {
     "name": "stdout",
     "output_type": "stream",
     "text": [
      "Low-Res efficientnet_lite0 Accuracy: 6.54%\n"
     ]
    },
    {
     "name": "stderr",
     "output_type": "stream",
     "text": [
      "\n"
     ]
    }
   ],
   "source": [
    "model = torchvision_models.mobilenet_v2(weights=torchvision_models.MobileNet_V2_Weights.DEFAULT).eval()\n",
    "num_ftrs = model.classifier[1].in_features\n",
    "model.classifier = nn.Sequential(\n",
    "    nn.Dropout(0.5), \n",
    "    nn.Linear(num_ftrs, 10)\n",
    ")\n",
    "model = model.to(device)\n",
    "\n",
    "for epoch in range(num_epochs):\n",
    "    running_loss = 0.0\n",
    "    for i, data in enumerate(train_loader, 0):\n",
    "        inputs, labels = data\n",
    "        inputs, labels = inputs.to(device), labels.to(device)\n",
    "        optimizer.zero_grad()\n",
    "        outputs = model(inputs)\n",
    "        loss = criterion(outputs, labels)\n",
    "        loss.backward()\n",
    "        optimizer.step()\n",
    "        running_loss += loss.item()\n",
    "        if i % 100 == 99:\n",
    "            print(f'Epoch {epoch + 1}, Batch {i + 1}, Loss: {running_loss / 100}')\n",
    "            running_loss = 0.0\n",
    "\n",
    "\n",
    "original_accuracy = evaluate_accuracy(model, test_loader, device=device)\n",
    "print(f'Original {model_name} Accuracy: {original_accuracy}%')\n",
    "\n",
    "scripted_model = torch.jit.script(model)\n",
    "scripted_accuracy = evaluate_accuracy(scripted_model, test_loader, device=device)\n",
    "print(f'TorchScript {model_name} Accuracy: {scripted_accuracy}%')\n",
    "\n",
    "for epoch in range(num_epochs):\n",
    "    running_loss = 0.0\n",
    "    for i, data in enumerate(train_loader_lowres, 0):\n",
    "        inputs, labels = data\n",
    "        inputs, labels = inputs.to(device), labels.to(device)\n",
    "        optimizer.zero_grad()\n",
    "        outputs = model(inputs)\n",
    "        loss = criterion(outputs, labels)\n",
    "        loss.backward()\n",
    "        optimizer.step()\n",
    "        running_loss += loss.item()\n",
    "        if i % 100 == 99:\n",
    "            print(f'Epoch {epoch + 1}, Batch {i + 1}, Loss: {running_loss / 100}')\n",
    "            running_loss = 0.0\n",
    "\n",
    "lowres_accuracy = evaluate_accuracy(model, test_loader_lowres, device=device)\n",
    "print(f'Low-Res {model_name} Accuracy: {lowres_accuracy}%')\n",
    "\n"
   ]
  },
  {
   "cell_type": "code",
   "execution_count": 21,
   "metadata": {},
   "outputs": [
    {
     "name": "stdout",
     "output_type": "stream",
     "text": [
      "Epoch 1, Batch 100, Loss: 7.9808092260360715\n",
      "Epoch 2, Batch 100, Loss: 8.015957975387574\n",
      "Epoch 3, Batch 100, Loss: 8.020528831481933\n",
      "Epoch 4, Batch 100, Loss: 8.004514446258545\n",
      "Epoch 5, Batch 100, Loss: 8.030089049339294\n"
     ]
    },
    {
     "name": "stderr",
     "output_type": "stream",
     "text": [
      "Evaluating Accuracy: 100%|██████████| 157/157 [00:01<00:00, 87.82it/s]\n"
     ]
    },
    {
     "name": "stdout",
     "output_type": "stream",
     "text": [
      "Original efficientnet_lite0 Accuracy: 10.88%\n"
     ]
    },
    {
     "name": "stderr",
     "output_type": "stream",
     "text": [
      "Evaluating Accuracy: 100%|██████████| 157/157 [00:01<00:00, 86.22it/s]\n"
     ]
    },
    {
     "name": "stdout",
     "output_type": "stream",
     "text": [
      "TorchScript efficientnet_lite0 Accuracy: 10.88%\n",
      "Epoch 1, Batch 100, Loss: 2.919751899242401\n",
      "Epoch 2, Batch 100, Loss: 2.9298764729499815\n",
      "Epoch 3, Batch 100, Loss: 2.9034196829795835\n",
      "Epoch 4, Batch 100, Loss: 2.930327544212341\n",
      "Epoch 5, Batch 100, Loss: 2.8945026278495787\n"
     ]
    },
    {
     "name": "stderr",
     "output_type": "stream",
     "text": [
      "Evaluating Accuracy: 100%|██████████| 157/157 [00:08<00:00, 18.98it/s]"
     ]
    },
    {
     "name": "stdout",
     "output_type": "stream",
     "text": [
      "Low-Res efficientnet_lite0 Accuracy: 13.08%\n"
     ]
    },
    {
     "name": "stderr",
     "output_type": "stream",
     "text": [
      "\n"
     ]
    }
   ],
   "source": [
    "model = torchvision_models.squeezenet1_0(weights=torchvision_models.SqueezeNet1_0_Weights.DEFAULT).eval()\n",
    "model = model.to(device)\n",
    "model.classifier[1] = nn.Conv2d(512, 10, kernel_size=(1, 1), stride=(1, 1))\n",
    "model = model.to(device)\n",
    "\n",
    "for epoch in range(num_epochs):\n",
    "    running_loss = 0.0\n",
    "    for i, data in enumerate(train_loader, 0):\n",
    "        inputs, labels = data\n",
    "        inputs, labels = inputs.to(device), labels.to(device)\n",
    "        optimizer.zero_grad()\n",
    "        outputs = model(inputs)\n",
    "        loss = criterion(outputs, labels)\n",
    "        loss.backward()\n",
    "        optimizer.step()\n",
    "        running_loss += loss.item()\n",
    "        if i % 100 == 99:\n",
    "            print(f'Epoch {epoch + 1}, Batch {i + 1}, Loss: {running_loss / 100}')\n",
    "            running_loss = 0.0\n",
    "\n",
    "original_accuracy = evaluate_accuracy(model, test_loader, device=device)\n",
    "print(f'Original {model_name} Accuracy: {original_accuracy}%')\n",
    "\n",
    "scripted_model = torch.jit.script(model)\n",
    "scripted_accuracy = evaluate_accuracy(scripted_model, test_loader, device=device)\n",
    "print(f'TorchScript {model_name} Accuracy: {scripted_accuracy}%')\n",
    "\n",
    "for epoch in range(num_epochs):\n",
    "    running_loss = 0.0\n",
    "    for i, data in enumerate(train_loader_lowres, 0):\n",
    "        inputs, labels = data\n",
    "        inputs, labels = inputs.to(device), labels.to(device)\n",
    "        optimizer.zero_grad()\n",
    "        outputs = model(inputs)\n",
    "        loss = criterion(outputs, labels)\n",
    "        loss.backward()\n",
    "        optimizer.step()\n",
    "        running_loss += loss.item()\n",
    "        if i % 100 == 99:\n",
    "            print(f'Epoch {epoch + 1}, Batch {i + 1}, Loss: {running_loss / 100}')\n",
    "            running_loss = 0.0\n",
    "\n",
    "lowres_accuracy = evaluate_accuracy(model, test_loader_lowres, device=device)\n",
    "print(f'Low-Res {model_name} Accuracy: {lowres_accuracy}%')\n",
    "\n",
    "\n"
   ]
  },
  {
   "cell_type": "code",
   "execution_count": 22,
   "metadata": {},
   "outputs": [
    {
     "name": "stdout",
     "output_type": "stream",
     "text": [
      "Epoch 1, Batch 100, Loss: 2.3267386388778686\n",
      "Epoch 2, Batch 100, Loss: 2.3259044671058655\n",
      "Epoch 3, Batch 100, Loss: 2.3266727828979494\n",
      "Epoch 4, Batch 100, Loss: 2.327750315666199\n",
      "Epoch 5, Batch 100, Loss: 2.325109050273895\n"
     ]
    },
    {
     "name": "stderr",
     "output_type": "stream",
     "text": [
      "Evaluating Accuracy: 100%|██████████| 157/157 [00:03<00:00, 40.86it/s]\n"
     ]
    },
    {
     "name": "stdout",
     "output_type": "stream",
     "text": [
      "Original efficientnet_lite0 Accuracy: 10.87%\n"
     ]
    },
    {
     "name": "stderr",
     "output_type": "stream",
     "text": [
      "Evaluating Accuracy: 100%|██████████| 157/157 [00:03<00:00, 42.79it/s]\n"
     ]
    },
    {
     "name": "stdout",
     "output_type": "stream",
     "text": [
      "TorchScript efficientnet_lite0 Accuracy: 10.87%\n",
      "Epoch 1, Batch 100, Loss: 2.300667815208435\n",
      "Epoch 2, Batch 100, Loss: 2.3042479825019835\n",
      "Epoch 3, Batch 100, Loss: 2.304117877483368\n",
      "Epoch 4, Batch 100, Loss: 2.3056423902511596\n",
      "Epoch 5, Batch 100, Loss: 2.3011720108985902\n"
     ]
    },
    {
     "name": "stderr",
     "output_type": "stream",
     "text": [
      "Evaluating Accuracy: 100%|██████████| 157/157 [00:11<00:00, 13.96it/s]"
     ]
    },
    {
     "name": "stdout",
     "output_type": "stream",
     "text": [
      "Low-Res efficientnet_lite0 Accuracy: 11.72%\n"
     ]
    },
    {
     "name": "stderr",
     "output_type": "stream",
     "text": [
      "\n"
     ]
    }
   ],
   "source": [
    "model = timm.create_model('efficientnet_b0', pretrained=True).eval()\n",
    "num_ftrs = model.classifier.in_features\n",
    "model.classifier = nn.Linear(num_ftrs, 10)\n",
    "model = model.to(device)\n",
    "\n",
    "for epoch in range(num_epochs):\n",
    "    running_loss = 0.0\n",
    "    for i, data in enumerate(train_loader, 0):\n",
    "        inputs, labels = data\n",
    "        inputs, labels = inputs.to(device), labels.to(device)\n",
    "        optimizer.zero_grad()\n",
    "        outputs = model(inputs)\n",
    "        loss = criterion(outputs, labels)\n",
    "        loss.backward()\n",
    "        optimizer.step()\n",
    "        running_loss += loss.item()\n",
    "        if i % 100 == 99:\n",
    "            print(f'Epoch {epoch + 1}, Batch {i + 1}, Loss: {running_loss / 100}')\n",
    "            running_loss = 0.0\n",
    "\n",
    "original_accuracy = evaluate_accuracy(model, test_loader, device=device)\n",
    "print(f'Original {model_name} Accuracy: {original_accuracy}%')\n",
    "\n",
    "scripted_model = torch.jit.script(model)\n",
    "scripted_accuracy = evaluate_accuracy(scripted_model, test_loader, device=device)\n",
    "print(f'TorchScript {model_name} Accuracy: {scripted_accuracy}%')\n",
    "\n",
    "for epoch in range(num_epochs):\n",
    "    running_loss = 0.0\n",
    "    for i, data in enumerate(train_loader_lowres, 0):\n",
    "        inputs, labels = data\n",
    "        inputs, labels = inputs.to(device), labels.to(device)\n",
    "        optimizer.zero_grad()\n",
    "        outputs = model(inputs)\n",
    "        loss = criterion(outputs, labels)\n",
    "        loss.backward()\n",
    "        optimizer.step()\n",
    "        running_loss += loss.item()\n",
    "        if i % 100 == 99:\n",
    "            print(f'Epoch {epoch + 1}, Batch {i + 1}, Loss: {running_loss / 100}')\n",
    "            running_loss = 0.0\n",
    "\n",
    "lowres_accuracy = evaluate_accuracy(model, test_loader_lowres, device=device)\n",
    "print(f'Low-Res {model_name} Accuracy: {lowres_accuracy}%')\n",
    "\n",
    "\n"
   ]
  },
  {
   "cell_type": "code",
   "execution_count": 24,
   "metadata": {},
   "outputs": [
    {
     "name": "stdout",
     "output_type": "stream",
     "text": [
      "Epoch 1, Batch 100, Loss: 2.2775961422920226\n",
      "Epoch 2, Batch 100, Loss: 2.277545132637024\n",
      "Epoch 3, Batch 100, Loss: 2.2732693099975587\n",
      "Epoch 4, Batch 100, Loss: 2.273003556728363\n",
      "Epoch 5, Batch 100, Loss: 2.2727546525001525\n"
     ]
    },
    {
     "name": "stderr",
     "output_type": "stream",
     "text": [
      "Evaluating Accuracy: 100%|██████████| 157/157 [00:02<00:00, 55.24it/s]\n"
     ]
    },
    {
     "name": "stdout",
     "output_type": "stream",
     "text": [
      "Original efficientnet_lite0 Accuracy: 13.82%\n"
     ]
    },
    {
     "name": "stderr",
     "output_type": "stream",
     "text": [
      "Evaluating Accuracy: 100%|██████████| 157/157 [00:02<00:00, 55.66it/s]\n"
     ]
    },
    {
     "name": "stdout",
     "output_type": "stream",
     "text": [
      "TorchScript efficientnet_lite0 Accuracy: 13.82%\n",
      "Epoch 1, Batch 100, Loss: 2.3713983511924743\n",
      "Epoch 2, Batch 100, Loss: 2.3776254510879515\n",
      "Epoch 3, Batch 100, Loss: 2.3706940269470214\n",
      "Epoch 4, Batch 100, Loss: 2.3702407479286194\n",
      "Epoch 5, Batch 100, Loss: 2.3724517035484314\n"
     ]
    },
    {
     "name": "stderr",
     "output_type": "stream",
     "text": [
      "Evaluating Accuracy: 100%|██████████| 157/157 [00:09<00:00, 17.32it/s]"
     ]
    },
    {
     "name": "stdout",
     "output_type": "stream",
     "text": [
      "Low-Res efficientnet_lite0 Accuracy: 8.36%\n"
     ]
    },
    {
     "name": "stderr",
     "output_type": "stream",
     "text": [
      "\n"
     ]
    }
   ],
   "source": [
    "model = timm.create_model('efficientnet_lite0', pretrained=True).eval()\n",
    "num_features = model.classifier.in_features\n",
    "model.classifier = nn.Linear(num_features, 10)\n",
    "model = model.to(device)\n",
    "\n",
    "for epoch in range(num_epochs):\n",
    "    running_loss = 0.0\n",
    "    for i, data in enumerate(train_loader, 0):\n",
    "        inputs, labels = data\n",
    "        inputs, labels = inputs.to(device), labels.to(device)\n",
    "        optimizer.zero_grad()\n",
    "        outputs = model(inputs)\n",
    "        loss = criterion(outputs, labels)\n",
    "        loss.backward()\n",
    "        optimizer.step()\n",
    "        running_loss += loss.item()\n",
    "        if i % 100 == 99:\n",
    "            print(f'Epoch {epoch + 1}, Batch {i + 1}, Loss: {running_loss / 100}')\n",
    "            running_loss = 0.0\n",
    "            \n",
    "\n",
    "original_accuracy = evaluate_accuracy(model, test_loader, device=device)\n",
    "print(f'Original {model_name} Accuracy: {original_accuracy}%')\n",
    "\n",
    "scripted_model = torch.jit.script(model)\n",
    "scripted_accuracy = evaluate_accuracy(scripted_model, test_loader, device=device)\n",
    "print(f'TorchScript {model_name} Accuracy: {scripted_accuracy}%')\n",
    "\n",
    "for epoch in range(num_epochs):\n",
    "    running_loss = 0.0\n",
    "    for i, data in enumerate(train_loader_lowres, 0):\n",
    "        inputs, labels = data\n",
    "        inputs, labels = inputs.to(device), labels.to(device)\n",
    "        optimizer.zero_grad()\n",
    "        outputs = model(inputs)\n",
    "        loss = criterion(outputs, labels)\n",
    "        loss.backward()\n",
    "        optimizer.step()\n",
    "        running_loss += loss.item()\n",
    "        if i % 100 == 99:\n",
    "            print(f'Epoch {epoch + 1}, Batch {i + 1}, Loss: {running_loss / 100}')\n",
    "            running_loss = 0.0\n",
    "\n",
    "lowres_accuracy = evaluate_accuracy(model, test_loader_lowres, device=device)\n",
    "print(f'Low-Res {model_name} Accuracy: {lowres_accuracy}%')\n",
    "\n",
    "\n"
   ]
  }
 ],
 "metadata": {
  "kernelspec": {
   "display_name": "base",
   "language": "python",
   "name": "python3"
  },
  "language_info": {
   "codemirror_mode": {
    "name": "ipython",
    "version": 3
   },
   "file_extension": ".py",
   "mimetype": "text/x-python",
   "name": "python",
   "nbconvert_exporter": "python",
   "pygments_lexer": "ipython3",
   "version": "3.11.7"
  }
 },
 "nbformat": 4,
 "nbformat_minor": 2
}
